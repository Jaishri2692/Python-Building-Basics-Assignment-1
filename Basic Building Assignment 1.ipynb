{
 "cells": [
  {
   "cell_type": "code",
   "execution_count": null,
   "id": "f0e8b5d8-f370-45e8-940f-8df44c3b6a27",
   "metadata": {},
   "outputs": [],
   "source": [
    "# Q1. Create one variable containing following type of data:\n",
    "# (i) string\n",
    "# (ii) list\n",
    "# (iii) float\n",
    "# (iv) tuple"
   ]
  },
  {
   "cell_type": "code",
   "execution_count": 7,
   "id": "3fdfce4a-3d0e-4895-989d-b39a19e0528f",
   "metadata": {},
   "outputs": [
    {
     "name": "stdout",
     "output_type": "stream",
     "text": [
      "string in a double quote\n",
      "string in a single quote\n"
     ]
    }
   ],
   "source": [
    "# i. Create a variable with string data type\n",
    "a=\"string in a double quote\"\n",
    "b='string in a single quote'\n",
    "print(a)\n",
    "print(b)"
   ]
  },
  {
   "cell_type": "code",
   "execution_count": 10,
   "id": "87e75bc0-16c1-485c-8371-abff71c8c065",
   "metadata": {},
   "outputs": [
    {
     "name": "stdout",
     "output_type": "stream",
     "text": [
      "['Hey', 'You', 1, 2.5, 3, 'go', [2, 4, 6], ('A', 'B')]\n"
     ]
    },
    {
     "data": {
      "text/plain": [
       "list"
      ]
     },
     "execution_count": 10,
     "metadata": {},
     "output_type": "execute_result"
    }
   ],
   "source": [
    "# ii. Create a variable with list data type. \n",
    "c=[\"Hey\", \"You\", 1, 2.5, 3, \"go\",[2,4,6],(\"A\",\"B\") ]\n",
    "print(c)\n",
    "type(c)"
   ]
  },
  {
   "cell_type": "code",
   "execution_count": 8,
   "id": "343924ac-5c6b-4b1d-aca4-4f35f5e57f7b",
   "metadata": {},
   "outputs": [
    {
     "name": "stdout",
     "output_type": "stream",
     "text": [
      "The type of variable having value 26.15 is <class 'float'>\n"
     ]
    }
   ],
   "source": [
    "# iii. Create a variable with float data type\n",
    "c=26.15\n",
    "print(\"The type of variable having value\", c , \"is\", type(c))"
   ]
  },
  {
   "cell_type": "code",
   "execution_count": 9,
   "id": "46bc632d-91e9-4a50-9bde-3bdf448d22d4",
   "metadata": {},
   "outputs": [
    {
     "name": "stdout",
     "output_type": "stream",
     "text": [
      "('Hey', 'You', 1, 2.5, 3, 'go')\n"
     ]
    },
    {
     "data": {
      "text/plain": [
       "tuple"
      ]
     },
     "execution_count": 9,
     "metadata": {},
     "output_type": "execute_result"
    }
   ],
   "source": [
    "# iv. Create a variable with tuple data type. List is immutble data type.\n",
    "# Tuple of having integers, float and strings\n",
    "d=(\"Hey\", \"You\", 1, 2.5, 3, \"go\")\n",
    "print(d) \n",
    "type(d)"
   ]
  },
  {
   "cell_type": "code",
   "execution_count": 12,
   "id": "0115a799-1b10-4858-893a-41821dec5898",
   "metadata": {},
   "outputs": [],
   "source": [
    "# Q2. Given are some following variables containing data:\n",
    "# (i) var1 = ‘ ‘\n",
    "# (ii) var2 = ‘[ DS , ML , Python]’\n",
    "# (iii) var3 = [ ‘DS’ , ’ML’ , ‘Python’ ]\n",
    "# (iv) var4 = 1.\n",
    "# What will be the data type of the above given variable."
   ]
  },
  {
   "cell_type": "code",
   "execution_count": 18,
   "id": "e61660bb-06ae-42bb-bd93-dc185d16ce3e",
   "metadata": {},
   "outputs": [
    {
     "name": "stdout",
     "output_type": "stream",
     "text": [
      "var1 is having data type <class 'str'>\n",
      "var2 is having data type <class 'str'>\n",
      "var3 is having data type <class 'list'>\n",
      "var4 is having data type <class 'float'>\n"
     ]
    }
   ],
   "source": [
    "var1= ''\n",
    "var2= '[DS, ML, Python]'\n",
    "var3= ['DS','ML','Python']\n",
    "var4= 1.\n",
    "print(\"var1 is having data type\", type(var1))\n",
    "print(\"var2 is having data type\", type(var2))\n",
    "print(\"var3 is having data type\", type(var3))\n",
    "print(\"var4 is having data type\",type(var4))\n"
   ]
  },
  {
   "cell_type": "code",
   "execution_count": 20,
   "id": "bb4c1c87-795e-4cb2-8e3a-4c32fcefe303",
   "metadata": {},
   "outputs": [
    {
     "name": "stdout",
     "output_type": "stream",
     "text": [
      "C= 3.3333333333333335\n",
      "D= 3\n",
      "E= 1\n",
      "F= 1000\n"
     ]
    }
   ],
   "source": [
    "# Q3. Explain the use of the following operators using an example:\n",
    "# (i) /\n",
    "# (ii) %\n",
    "# (iii) //\n",
    "# (iv) **\n",
    "A=10\n",
    "B=3\n",
    "# i. Division /\n",
    "C=A/B\n",
    "print(\"C=\", C)\n",
    "# ii. Floor Division //\n",
    "D=A//B\n",
    "print(\"D=\", D)\n",
    "# iii. Modulo %\n",
    "E= A % B\n",
    "print(\"E=\",E)\n",
    "# iv. Power **\n",
    "F=A**B\n",
    "print(\"F=\", F)\n"
   ]
  },
  {
   "cell_type": "code",
   "execution_count": 21,
   "id": "57e21f7b-4041-44fb-97b5-25a7f4df51ed",
   "metadata": {},
   "outputs": [
    {
     "name": "stdout",
     "output_type": "stream",
     "text": [
      "Jaishri <class 'str'>\n",
      "Gothania <class 'str'>\n",
      "1992 <class 'int'>\n",
      "68.5 <class 'float'>\n",
      "30 <class 'int'>\n",
      "Married <class 'str'>\n",
      "9172123878 <class 'int'>\n",
      "32.5 <class 'float'>\n",
      "4567 <class 'int'>\n",
      "456.0 <class 'float'>\n"
     ]
    }
   ],
   "source": [
    "# Q4. Create a list of length 10 of your choice containing multiple types of data. \n",
    "#Using for loop print the element and its data type.\n",
    "List=[\"Jaishri\", \"Gothania\", 1992, 68.5, 30, \"Married\",9172123878,32.5,4567,456.00]\n",
    "for x in List:\n",
    "    print(x, type(x))"
   ]
  },
  {
   "cell_type": "code",
   "execution_count": null,
   "id": "c359265b-2059-487a-ab5a-05cf7cadb6d0",
   "metadata": {},
   "outputs": [],
   "source": [
    "# Q5. Using a while loop, verify if the number A is purely divisible by number B \n",
    "#and if so then how many times it can be divisible.\n",
    "A1 = 80\n",
    "B1=2\n",
    "i = 0\n",
    "while A1 > 0:\n",
    "   if (A1 / B1) > 1:\n",
    "    i = i +1 \n",
    "print (i)\n",
    "# This code is neither giving OUTPUT nor ERROR.\n"
   ]
  },
  {
   "cell_type": "code",
   "execution_count": null,
   "id": "90ff42fb-5b65-4578-9793-b1632de418c4",
   "metadata": {},
   "outputs": [],
   "source": [
    "# Q6. Create a list containing 25 int type data. Using for loop \n",
    "# and if-else condition print if the element is divisible by 3 or not.\n",
    "List1=[3,6,9,12,15,18,21,24,27,30,33,36,39,42,45,48,51,54,57,60,63,66,69,72,75]\n",
    "for i in range(0,24) : \n",
    "   if((i%3==0) \n",
    "      print(i)\n",
    "# This code is neither giving OUTPUT nor ERROR.   \n"
   ]
  },
  {
   "cell_type": "code",
   "execution_count": null,
   "id": "ab2a7c10-9afd-4788-b0a3-9c456bc0dc00",
   "metadata": {},
   "outputs": [],
   "source": [
    "# Q7. What do you understand about mutable and immutable data types? \n",
    "#Give examples for both showing this property."
   ]
  },
  {
   "cell_type": "code",
   "execution_count": null,
   "id": "77f1bcc8-0eec-489d-890d-ffef7a001bdb",
   "metadata": {},
   "outputs": [],
   "source": [
    "# Mutable datatypes are objects that can be modified or altered after they have been created \n",
    "# (for example, by adding new elements, removing elements, or replacing elements).\n",
    "# Python's mutable data types are:\n",
    "# •\tList\n",
    "# •\tDictionary\n",
    "# •\tSet"
   ]
  },
  {
   "cell_type": "code",
   "execution_count": null,
   "id": "9dd4aaa1-9ebb-4cc1-8aeb-76b7d22e177c",
   "metadata": {},
   "outputs": [],
   "source": [
    "# Lists are Mutuable \n",
    "List2 = [\"red\", \"blue\", \"green\"]\n",
    "print(List2)\n",
    "List2[0] = \"pink\"\n",
    "List2[-1] = \"orange\"\n",
    "print(List2)\n",
    "# This code is neither giving OUTPUT nor ERROR."
   ]
  },
  {
   "cell_type": "code",
   "execution_count": null,
   "id": "17e687ba-61a0-46a1-b1a0-09373357b7ff",
   "metadata": {},
   "outputs": [],
   "source": [
    "# Dictionaries are Mutable\n",
    "dict d1 = {Name: 'Jaishri', age: 30, Place: 'Delhi'}\n",
    "print(d1)\n",
    "d1[Name]= \"Gothania\"\n",
    "print(d1)\n",
    "# This code is neither giving OUTPUT nor ERROR."
   ]
  },
  {
   "cell_type": "code",
   "execution_count": null,
   "id": "1c250213-b393-4310-85f0-c145684670fc",
   "metadata": {},
   "outputs": [],
   "source": [
    "# Sets are Mutable\n",
    "set s= {\"apple\", \"banana\", \"cherry\", \"apple\"}\n",
    "print(s)\n",
    "s.add(Mango)\n",
    "print(s)\n",
    "# This code is neither giving OUTPUT nor ERROR."
   ]
  },
  {
   "cell_type": "code",
   "execution_count": null,
   "id": "561768d7-cd60-480b-9b4f-1bb1ed0e1784",
   "metadata": {},
   "outputs": [],
   "source": [
    "# Immutable datatypes are objects that cannot be modified or altered after they have been created \n",
    "# (for example, by adding new elements, removing elements, or replacing elements).\n",
    "# Python's immutable data types are:\n",
    "# •\tInt\n",
    "# •\tFloat\n",
    "# •\tTuple\n",
    "# •\tComplex\n",
    "# •\tString\n",
    "# When you make changes to immutable objects, the memory where they were stored during initialization is updated.\n"
   ]
  },
  {
   "cell_type": "code",
   "execution_count": null,
   "id": "daddacbf-a627-499e-938e-80588787fd43",
   "metadata": {},
   "outputs": [],
   "source": [
    "# Tuples are immutable\n",
    "x = (\"apple\", \"banana\", \"cherry\")\n",
    "x[1] = \"kiwi\"\n",
    "print(x)\n",
    "# This code is neither giving OUTPUT nor ERROR."
   ]
  },
  {
   "cell_type": "code",
   "execution_count": null,
   "id": "03030011-ffef-4f54-baf8-050266a2b5e8",
   "metadata": {},
   "outputs": [],
   "source": [
    "# Strings are immutable\n",
    "y = \"Hello\"\n",
    "print(y)\n",
    "y[0]=\"C\"\n",
    "print(y)\n",
    "# This code is neither giving OUTPUT nor ERROR."
   ]
  }
 ],
 "metadata": {
  "kernelspec": {
   "display_name": "Python 3 (ipykernel)",
   "language": "python",
   "name": "python3"
  },
  "language_info": {
   "codemirror_mode": {
    "name": "ipython",
    "version": 3
   },
   "file_extension": ".py",
   "mimetype": "text/x-python",
   "name": "python",
   "nbconvert_exporter": "python",
   "pygments_lexer": "ipython3",
   "version": "3.10.8"
  }
 },
 "nbformat": 4,
 "nbformat_minor": 5
}
